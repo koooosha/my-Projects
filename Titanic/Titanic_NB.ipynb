{
 "cells": [
  {
   "cell_type": "markdown",
   "metadata": {},
   "source": [
    "## Titanic Kaggle data set Data Analysis"
   ]
  },
  {
   "cell_type": "code",
   "execution_count": 1,
   "metadata": {},
   "outputs": [],
   "source": [
    "import pandas as pd\n",
    "import numpy as np\n",
    "import matplotlib.pyplot as plt\n",
    "import seaborn as sns\n",
    "import warnings\n",
    "warnings.filterwarnings('ignore')"
   ]
  },
  {
   "cell_type": "code",
   "execution_count": 4,
   "metadata": {},
   "outputs": [
    {
     "name": "stdout",
     "output_type": "stream",
     "text": [
      "The number of training samples is :891\n",
      "The number of testing samples is :418\n",
      "The number of features is : 12\n"
     ]
    }
   ],
   "source": [
    "data_train = pd.read_csv('./data/train.csv')\n",
    "data_test = pd.read_csv('./data/test.csv')\n",
    "data_train.head()\n",
    "data_test.head()\n",
    "\n",
    "train_records = data_train.shape[0]\n",
    "test_records = data_test.shape[0]\n",
    "number_of_features = data_train.shape[1]\n",
    "print(f\"The number of training samples is :{train_records}\")\n",
    "print(f\"The number of testing samples is :{test_records}\")\n",
    "print(f\"The number of features is : {number_of_features}\")"
   ]
  },
  {
   "cell_type": "markdown",
   "metadata": {},
   "source": [
    "### EDA on the Titanic data set\n",
    "\n"
   ]
  },
  {
   "cell_type": "code",
   "execution_count": 6,
   "metadata": {},
   "outputs": [
    {
     "name": "stdout",
     "output_type": "stream",
     "text": [
      "<class 'pandas.core.frame.DataFrame'>\n",
      "RangeIndex: 891 entries, 0 to 890\n",
      "Data columns (total 12 columns):\n",
      " #   Column       Non-Null Count  Dtype  \n",
      "---  ------       --------------  -----  \n",
      " 0   PassengerId  891 non-null    int64  \n",
      " 1   Survived     891 non-null    int64  \n",
      " 2   Pclass       891 non-null    int64  \n",
      " 3   Name         891 non-null    object \n",
      " 4   Sex          891 non-null    object \n",
      " 5   Age          714 non-null    float64\n",
      " 6   SibSp        891 non-null    int64  \n",
      " 7   Parch        891 non-null    int64  \n",
      " 8   Ticket       891 non-null    object \n",
      " 9   Fare         891 non-null    float64\n",
      " 10  Cabin        204 non-null    object \n",
      " 11  Embarked     889 non-null    object \n",
      "dtypes: float64(2), int64(5), object(5)\n",
      "memory usage: 83.7+ KB\n"
     ]
    }
   ],
   "source": [
    "## checking data set columns\n",
    "## create a data frame for data types\n",
    "df_columns_name = list(data_train.columns)\n",
    "data_train.info()\n",
    "data_types_df = pd.DataFrame({\"feats\":list(data_train.dtypes.keys()),\"dtypes\":list(data_train.dtypes.values)})\n",
    "\n"
   ]
  },
  {
   "cell_type": "code",
   "execution_count": 7,
   "metadata": {},
   "outputs": [],
   "source": [
    "##### \n",
    "cols_cat= list(data_types_df[data_types_df['dtypes']=='object']['feats'].values)\n",
    "cols_num = list(data_types_df[data_types_df['dtypes']!='object']['feats'].values)\n",
    "#### Getting dtypes directly instead of creating data frame.\n",
    "categorical_cols = list(data_train.select_dtypes(include='object').columns)\n",
    "numerical_cols = list(data_train.select_dtypes(exclude='object').columns)\n",
    "### looping all the columns and check the data type of the each col.\n",
    "cat_col =[]\n",
    "num_col = []\n",
    "for col in df_columns_name:\n",
    "    if data_train[col].dtype in ['object']:\n",
    "        cat_col.append(col)\n",
    "    else:\n",
    "        num_col.append(col)"
   ]
  },
  {
   "cell_type": "code",
   "execution_count": 5,
   "metadata": {},
   "outputs": [],
   "source": [
    "### checking the result of different methods\n",
    "# categorical_cols == cat_col\n",
    "# numerical_cols == num_col"
   ]
  },
  {
   "cell_type": "code",
   "execution_count": 8,
   "metadata": {},
   "outputs": [
    {
     "data": {
      "text/plain": [
       "PassengerId      0\n",
       "Survived         0\n",
       "Pclass           0\n",
       "Name             0\n",
       "Sex              0\n",
       "Age            177\n",
       "SibSp            0\n",
       "Parch            0\n",
       "Ticket           0\n",
       "Fare             0\n",
       "Cabin          687\n",
       "Embarked         2\n",
       "dtype: int64"
      ]
     },
     "execution_count": 8,
     "metadata": {},
     "output_type": "execute_result"
    }
   ],
   "source": [
    "### checking NA values with different functions\n",
    "data_train.isna() #--> will generate a binary value for each record to specify if it is nan or not!!!!!\n",
    "data_train.isna().any()  ## checking if a column has any missing values or not!!!\n",
    "missing_values = data_train.isna().sum() ## returns the number of the missing values for each column, its data type is pandas series, so it can be stored as variable and can be processed. \n",
    "missing_values"
   ]
  },
  {
   "cell_type": "markdown",
   "metadata": {},
   "source": [
    "### Getting info from numerical and categorical data separately\n",
    "for categorical data, values in each category should be checked and for numerical data types statistical description will be returned.\n",
    " "
   ]
  },
  {
   "cell_type": "code",
   "execution_count": 9,
   "metadata": {},
   "outputs": [
    {
     "name": "stdout",
     "output_type": "stream",
     "text": [
      "The number of missing value for Name is : 0\n",
      "the number of unique values for the Name is : 891\n",
      "**************************************************\n",
      "The number of missing value for Sex is : 0\n",
      "the number of unique values for the Sex is : 2\n",
      "value counts for the Sex is : \n",
      "male      577\n",
      "female    314\n",
      "Name: Sex, dtype: int64\n",
      "**************************************************\n",
      "The number of missing value for Ticket is : 0\n",
      "the number of unique values for the Ticket is : 681\n",
      "**************************************************\n",
      "The number of missing value for Cabin is : 687\n",
      "the number of unique values for the Cabin is : 147\n",
      "**************************************************\n",
      "The number of missing value for Embarked is : 2\n",
      "the number of unique values for the Embarked is : 3\n",
      "value counts for the Embarked is : \n",
      "S    644\n",
      "C    168\n",
      "Q     77\n",
      "Name: Embarked, dtype: int64\n",
      "**************************************************\n"
     ]
    }
   ],
   "source": [
    "### define function for categorical  data checking\n",
    "def data_info_cat(data, cat_col):\n",
    "    for col in cat_col:\n",
    "        sub_sample = data[col]\n",
    "        print(f\"The number of missing value for {col} is : {sub_sample.isna().sum()}\")\n",
    "        print(f\"the number of unique values for the {col} is : {sub_sample.nunique()}\")\n",
    "        if sub_sample.nunique()<10:\n",
    "            print(f\"value counts for the {col} is : \\n{sub_sample.value_counts()}\")\n",
    "        print(\"**************************************************\")\n",
    "        \n",
    "data_info_cat(data_train,categorical_cols)"
   ]
  },
  {
   "cell_type": "code",
   "execution_count": 10,
   "metadata": {},
   "outputs": [
    {
     "name": "stdout",
     "output_type": "stream",
     "text": [
      "The number of missing values for PassengerId is : 0\n",
      "The statical description of PassengerId is :\n",
      "count    891.000000\n",
      "mean     446.000000\n",
      "std      257.353842\n",
      "min        1.000000\n",
      "25%      223.500000\n",
      "50%      446.000000\n",
      "75%      668.500000\n",
      "max      891.000000\n",
      "Name: PassengerId, dtype: float64\n",
      "The number of missing values for Survived is : 0\n",
      "The statical description of Survived is :\n",
      "count    891.000000\n",
      "mean       0.383838\n",
      "std        0.486592\n",
      "min        0.000000\n",
      "25%        0.000000\n",
      "50%        0.000000\n",
      "75%        1.000000\n",
      "max        1.000000\n",
      "Name: Survived, dtype: float64\n",
      "The number of missing values for Pclass is : 0\n",
      "The statical description of Pclass is :\n",
      "count    891.000000\n",
      "mean       2.308642\n",
      "std        0.836071\n",
      "min        1.000000\n",
      "25%        2.000000\n",
      "50%        3.000000\n",
      "75%        3.000000\n",
      "max        3.000000\n",
      "Name: Pclass, dtype: float64\n",
      "The number of missing values for Age is : 177\n",
      "The statical description of Age is :\n",
      "count    714.000000\n",
      "mean      29.699118\n",
      "std       14.526497\n",
      "min        0.420000\n",
      "25%       20.125000\n",
      "50%       28.000000\n",
      "75%       38.000000\n",
      "max       80.000000\n",
      "Name: Age, dtype: float64\n",
      "The number of missing values for SibSp is : 0\n",
      "The statical description of SibSp is :\n",
      "count    891.000000\n",
      "mean       0.523008\n",
      "std        1.102743\n",
      "min        0.000000\n",
      "25%        0.000000\n",
      "50%        0.000000\n",
      "75%        1.000000\n",
      "max        8.000000\n",
      "Name: SibSp, dtype: float64\n",
      "The number of missing values for Parch is : 0\n",
      "The statical description of Parch is :\n",
      "count    891.000000\n",
      "mean       0.381594\n",
      "std        0.806057\n",
      "min        0.000000\n",
      "25%        0.000000\n",
      "50%        0.000000\n",
      "75%        0.000000\n",
      "max        6.000000\n",
      "Name: Parch, dtype: float64\n",
      "The number of missing values for Fare is : 0\n",
      "The statical description of Fare is :\n",
      "count    891.000000\n",
      "mean      32.204208\n",
      "std       49.693429\n",
      "min        0.000000\n",
      "25%        7.910400\n",
      "50%       14.454200\n",
      "75%       31.000000\n",
      "max      512.329200\n",
      "Name: Fare, dtype: float64\n"
     ]
    }
   ],
   "source": [
    "### define function for numerical data checking\n",
    "def data_info_num(data, num_col):\n",
    "    for col in num_col:\n",
    "        sub_sample = data[col]\n",
    "        print(f\"The number of missing values for {col} is : {sub_sample.isna().sum()}\")\n",
    "        print(f\"The statical description of {col} is :\\n{sub_sample.describe()}\")\n",
    "data_info_num(data_train,numerical_cols)\n"
   ]
  },
  {
   "cell_type": "code",
   "execution_count": 11,
   "metadata": {},
   "outputs": [
    {
     "data": {
      "text/plain": [
       "False    549\n",
       "True     342\n",
       "Name: Survived, dtype: int64"
      ]
     },
     "execution_count": 11,
     "metadata": {},
     "output_type": "execute_result"
    }
   ],
   "source": [
    "### Survived is float it can be defined as bool or for analysis it can be checked with value counts function\n",
    "data_train['Survived'] = data_train['Survived'].astype('bool')\n",
    "data_train['Survived'] = data_train['Survived'].astype(\"category\") ## it can be defined as category data type!!!!!\n",
    "data_train['Survived'].value_counts()\n",
    "# plt.figure(figsize=(20,10))\n",
    "# sns.countplot(x='Survived',hue='Sex',data= data_train)"
   ]
  },
  {
   "cell_type": "markdown",
   "metadata": {},
   "source": [
    "### Doing a little EDA"
   ]
  },
  {
   "cell_type": "markdown",
   "metadata": {},
   "source": [
    "#### Features Analysis"
   ]
  },
  {
   "cell_type": "code",
   "execution_count": 12,
   "metadata": {},
   "outputs": [
    {
     "data": {
      "text/plain": [
       "Text(0.5, 1.0, 'Survived')"
      ]
     },
     "execution_count": 12,
     "metadata": {},
     "output_type": "execute_result"
    },
    {
     "data": {
      "image/png": "[encoded data removed]",
      "text/plain": [
       "<Figure size 1080x720 with 2 Axes>"
      ]
     },
     "metadata": {
      "needs_background": "light"
     },
     "output_type": "display_data"
    }
   ],
   "source": [
    "### Visualizing Survived \n",
    "fig, ax = plt.subplots(1,2,figsize=(15,10))\n",
    "data_train['Survived'].value_counts().plot.pie(explode= [0,0.1],ax=ax[0],autopct='%1.1f%%',shadow=True)\n",
    "ax[0].set_title(\"Survived\")\n",
    "ax[0].set_ylabel('')\n",
    "sns.countplot(\"Survived\",data = data_train, ax=ax[1])\n",
    "ax[1].set_title(\"Survived\")\n"
   ]
  },
  {
   "cell_type": "markdown",
   "metadata": {},
   "source": [
    "#### Features Analysis"
   ]
  },
  {
   "cell_type": "code",
   "execution_count": 20,
   "metadata": {},
   "outputs": [
    {
     "data": {
      "text/plain": [
       "Sex     Survived\n",
       "female  0            81\n",
       "        1           233\n",
       "male    0           468\n",
       "        1           109\n",
       "Name: Survived, dtype: int64"
      ]
     },
     "execution_count": 20,
     "metadata": {},
     "output_type": "execute_result"
    }
   ],
   "source": [
    "#### Feature : Sex\n",
    "data_train[\"Survived\"] = data_train[\"Survived\"].astype(\"int\")\n",
    "data_train.groupby(['Sex','Survived'])[\"Survived\"].count()"
   ]
  },
  {
   "cell_type": "code",
   "execution_count": 34,
   "metadata": {},
   "outputs": [
    {
     "data": {
      "text/plain": [
       "Text(0.5, 1.0, 'Survived based on the sex')"
      ]
     },
     "execution_count": 34,
     "metadata": {},
     "output_type": "execute_result"
    },
    {
     "data": {
      "image/png": "[encoded data removed]",
      "text/plain": [
       "<Figure size 1440x576 with 2 Axes>"
      ]
     },
     "metadata": {
      "needs_background": "light"
     },
     "output_type": "display_data"
    }
   ],
   "source": [
    "fig,ax = plt.subplots(1,2,figsize=(20,8))\n",
    "data_train[[\"Sex\",\"Survived\"]].groupby(['Sex']).mean().plot.bar(ax=ax[0])\n",
    "ax[0].set_title(\"Sex and Survived\")\n",
    "sns.countplot('Survived',data = data_train, hue = \"Sex\", ax=ax[1])\n",
    "ax[1].set_title(\"Survived based on the sex\")"
   ]
  },
  {
   "cell_type": "markdown",
   "metadata": {},
   "source": [
    "### Cleaning Data (taking action for Missing values Features)"
   ]
  }
 ],
 "metadata": {
  "interpreter": {
   "hash": "17d5a95e9b2cf291197c4b230ef7584b7fa57f04d517b2288046848b706c0ee3"
  },
  "kernelspec": {
   "display_name": "Python 3.8.8 ('base')",
   "language": "python",
   "name": "python3"
  },
  "language_info": {
   "codemirror_mode": {
    "name": "ipython",
    "version": 3
   },
   "file_extension": ".py",
   "mimetype": "text/x-python",
   "name": "python",
   "nbconvert_exporter": "python",
   "pygments_lexer": "ipython3",
   "version": "3.8.8"
  },
  "orig_nbformat": 4
 },
 "nbformat": 4,
 "nbformat_minor": 2
}
